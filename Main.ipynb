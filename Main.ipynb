{
 "cells": [
  {
   "cell_type": "code",
   "execution_count": 1,
   "metadata": {},
   "outputs": [],
   "source": [
    "from CarDetection import CarDetection\n",
    "from FaceRecognition import FaceRecognition\n",
    "from PersonDetection import PersonDetection\n",
    "from PlateDetection import PlateDetection\n",
    "import time\n",
    "from datetime import datetime\n",
    "import requests"
   ]
  },
  {
   "cell_type": "markdown",
   "metadata": {},
   "source": [
    "We have a continuos streaming of video and we capture when the trigger is activated. we save each frame every x seconds.\n"
   ]
  },
  {
   "cell_type": "code",
   "execution_count": 2,
   "metadata": {},
   "outputs": [],
   "source": [
    "trigger = 1 # trigger for the main loop, in real life it will be a proximity sensor\n",
    "\n",
    "maximum_time_without_person = 60 # seconds\n",
    "max_overall_time = 40 #minutes\n",
    "charging = False "
   ]
  },
  {
   "cell_type": "code",
   "execution_count": 3,
   "metadata": {},
   "outputs": [],
   "source": [
    "#requests.get(f'http://127.0.0.1:5000/valid/TARGA123').json()"
   ]
  },
  {
   "cell_type": "code",
   "execution_count": 4,
   "metadata": {},
   "outputs": [
    {
     "name": "stderr",
     "output_type": "stream",
     "text": [
      "Action: emotion: 100%|██████████| 4/4 [00:00<00:00,  4.10it/s]"
     ]
    },
    {
     "name": "stdout",
     "output_type": "stream",
     "text": [
      "{'age': 34, 'gender': 'Man', 'ethnicity': 'white', 'emotion': 'neutral', 'time_stamp': '2023-11-11 05:27:17'}\n",
      "Bella fra\n"
     ]
    },
    {
     "name": "stderr",
     "output_type": "stream",
     "text": [
      "\n"
     ]
    }
   ],
   "source": [
    "# The first time this code is run it can take up to one minute to load.\n",
    "# For performance evaluation run it two times.\n",
    "\n",
    "#the trigger actives when there is something in front of the sensor and deactivates when there is nothing\n",
    "while trigger: \n",
    "\n",
    "    # Start timer\n",
    "    start_timer = time.time()\n",
    "\n",
    "    # Take a picture and save it in the folder \"images\"\n",
    "    image = \"car_arrival.jpg\"\n",
    "\n",
    "    # take the picture and detect if there is a car\n",
    "    Car_detected = CarDetection(image) \n",
    "\n",
    "    if Car_detected:\n",
    "\n",
    "        # Check if car is electric or not by checking the license plate\n",
    "        # TODO: This is fixed, in real life it will be a continous checking of the license plate\n",
    "        image = 'plate.jpeg' \n",
    "\n",
    "        Plate_number = PlateDetection(image)\n",
    "\n",
    "\n",
    "\n",
    "        # Send plate number to API and get back if the car is electric or not\n",
    "        ##request.post(f'http://127.0.0.1:5000/valid/{Plate_number}')\n",
    "        # Add delay to wait for the API to process the request\n",
    "        #time.sleep(.05) \n",
    "        Plate_number = 'TARGA123'\n",
    "        Electric_status = requests.get(f'http://127.0.0.1:5000/valid/{Plate_number}').json()[\"isEV\"]\n",
    "        #Electric_status = True\n",
    "\n",
    "        if Electric_status:\n",
    "\n",
    "\n",
    "            # wait for the person to get out of the car \n",
    "            # PersonDection function checks if a person appears in the fieldview of the camera.\n",
    "            # If no person is detected within a certain amount of time, the charging station will output a warning message,\n",
    "            # inviting the people to free the parking lot.\n",
    "\n",
    "            # Start to take frame from the camera unitl a person is detected\n",
    "            # Here we're still scripting, in real life it will be a continous checking of the camera.\n",
    "            image = \"man.jpg\"\n",
    "            Person_detected = False\n",
    "\n",
    "            # If a car arrives we want to understand weather the person is getting out of the car or not.\n",
    "            # If the person doesn't get out it probably means that he/she is not going to charge the car.\n",
    "            \n",
    "            while Person_detected == False:\n",
    "\n",
    "                Person_detected = PersonDetection(image)\n",
    "                time_elapsed = time.time() - start_timer\n",
    "\n",
    "                if time_elapsed > maximum_time_without_person:\n",
    "                    # Call warning function\n",
    "                    # warning fucntion should get us out of the loop.\n",
    "                    print(\"GET OUT OF THE CAR!!!\")\n",
    "                    break\n",
    "\n",
    "            # We should have a function that halts everything and print warning message. \n",
    "            # If we're here it means that Person_detected == True so this if statement is not necessary.\n",
    "            # We put it anyway to be sure.\n",
    "            if Person_detected:\n",
    "                \n",
    "                # Start customer profiling:\n",
    "                # FaceRecognition function detects the followeing characteristics of the person:\n",
    "                # - Emotion (Angry, Happy, Sad, Neutral, Surprised, Disgusted, Fearful)\n",
    "                ## - Age\n",
    "                ## - Etnicity\n",
    "                ## - Gender\n",
    "\n",
    "                # profilation is a dictionary containing the above info related to the person.\n",
    "                profilation = FaceRecognition(image)\n",
    "\n",
    "\n",
    "                profilation[\"time_stamp\"] = datetime.now().strftime(\"%Y-%m-%d %H:%M:%S\")\n",
    "\n",
    "                # Send profilation to API / DB\n",
    "                #curl -X POST -H \"Content-Type: application/json\" -d '{\"age\": 34, \"gender\": \"Man\", \"ethnicity\": \"white\", \"emotion\": \"neutral\", \"time_stamp\": \"2023-11-11 05:08:50\"}' http://127.0.0.1:5000/insert_recognition\n",
    "                requests.post(url='http://127.0.0.1:5000/insert_recognition', json=profilation)\n",
    "\n",
    "                print(profilation)\n",
    "\n",
    "                # Send profilation data to API\n",
    "                \n",
    "                # Final implementation should check an average emotion\n",
    "                # This script looks at emotion only instantaneously.\n",
    "                # This is more likely to get false positives. (e.g. a person is angry for a second and then gets happy)\n",
    "\n",
    "                if profilation['emotion'] in ['angry',\"fear\",\"sad\",\"disgust\"]:\n",
    "\n",
    "                    # This should be a function that calls the assistance\n",
    "                    print('call assistance, customer not happy')\n",
    "                    break\n",
    "\n",
    "                # If customer seems to have no problems, check when he/she starts to charge the car\n",
    "                \n",
    "                else:\n",
    "                    # Take data from charging station and set charging = True when the car starts to charge\n",
    "                    charging = True\n",
    "\n",
    "                    # API request to show reccomendation based on the customer profile\n",
    "\n",
    "                    overall_time = time.time() - start_timer\n",
    "\n",
    "                    # Customer can stay for 40 minutes max.\n",
    "                    # (If charging station has data regarding the battery, we can check if the car is fully charged or not)\n",
    "                    # If  car is fully charged, ask driver to free the parking lot asap.\n",
    "\n",
    "                    print(\"Bella fra\")\n",
    "                    break\n",
    "\n",
    "                    if overall_time > max_overall_time*60:\n",
    "                        print('free the parking lot asap')\n",
    "                        break\n",
    "\n",
    "        else:\n",
    "            # Here if car is not electric\n",
    "            # Set function\n",
    "            print('allerta pula')\n",
    "            break\n",
    "\n",
    "    else:\n",
    "        # Here if something different from a car is occupying the parking lot\n",
    "        print('levati, libera il passaggio per favore')\n",
    "        break\n",
    "    \n"
   ]
  },
  {
   "cell_type": "code",
   "execution_count": null,
   "metadata": {},
   "outputs": [],
   "source": []
  }
 ],
 "metadata": {
  "kernelspec": {
   "display_name": "torch-gpu",
   "language": "python",
   "name": "python3"
  },
  "language_info": {
   "codemirror_mode": {
    "name": "ipython",
    "version": 3
   },
   "file_extension": ".py",
   "mimetype": "text/x-python",
   "name": "python",
   "nbconvert_exporter": "python",
   "pygments_lexer": "ipython3",
   "version": "3.9.16"
  }
 },
 "nbformat": 4,
 "nbformat_minor": 2
}
